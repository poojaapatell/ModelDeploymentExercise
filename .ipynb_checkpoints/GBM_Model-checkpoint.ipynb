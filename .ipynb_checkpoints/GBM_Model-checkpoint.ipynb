{
 "cells": [
  {
   "cell_type": "code",
   "execution_count": 1,
   "metadata": {},
   "outputs": [
    {
     "name": "stdout",
     "output_type": "stream",
     "text": [
      "\u001b[31mERROR: Could not find a version that satisfies the requirement numpy==1.26.4 (from versions: 1.3.0, 1.4.1, 1.5.0, 1.5.1, 1.6.0, 1.6.1, 1.6.2, 1.7.0, 1.7.1, 1.7.2, 1.8.0, 1.8.1, 1.8.2, 1.9.0, 1.9.1, 1.9.2, 1.9.3, 1.10.0.post2, 1.10.1, 1.10.2, 1.10.4, 1.11.0, 1.11.1, 1.11.2, 1.11.3, 1.12.0, 1.12.1, 1.13.0, 1.13.1, 1.13.3, 1.14.0, 1.14.1, 1.14.2, 1.14.3, 1.14.4, 1.14.5, 1.14.6, 1.15.0, 1.15.1, 1.15.2, 1.15.3, 1.15.4, 1.16.0, 1.16.1, 1.16.2, 1.16.3, 1.16.4, 1.16.5, 1.16.6, 1.17.0, 1.17.1, 1.17.2, 1.17.3, 1.17.4, 1.17.5, 1.18.0, 1.18.1, 1.18.2, 1.18.3, 1.18.4, 1.18.5, 1.19.0, 1.19.1, 1.19.2, 1.19.3, 1.19.4, 1.19.5, 1.20.0, 1.20.1, 1.20.2, 1.20.3, 1.21.0, 1.21.1, 1.21.2, 1.21.3, 1.21.4, 1.21.5, 1.21.6, 1.22.0, 1.22.1, 1.22.2, 1.22.3, 1.22.4, 1.23.0, 1.23.1, 1.23.2, 1.23.3, 1.23.4, 1.23.5, 1.24.0, 1.24.1, 1.24.2, 1.24.3, 1.24.4)\u001b[0m\n",
      "\u001b[31mERROR: No matching distribution found for numpy==1.26.4\u001b[0m\n",
      "\u001b[31mERROR: Could not find a version that satisfies the requirement scikit-learn==1.5.2 (from versions: 0.9, 0.10, 0.11, 0.12, 0.12.1, 0.13, 0.13.1, 0.14, 0.14.1, 0.15.0, 0.15.1, 0.15.2, 0.16.0, 0.16.1, 0.17, 0.17.1, 0.18, 0.18.1, 0.18.2, 0.19.0, 0.19.1, 0.19.2, 0.20.0, 0.20.1, 0.20.2, 0.20.3, 0.20.4, 0.21.1, 0.21.2, 0.21.3, 0.22, 0.22.1, 0.22.2, 0.22.2.post1, 0.23.0, 0.23.1, 0.23.2, 0.24.0, 0.24.1, 0.24.2, 1.0, 1.0.1, 1.0.2, 1.1.0, 1.1.1, 1.1.2, 1.1.3, 1.2.0rc1, 1.2.0, 1.2.1, 1.2.2, 1.3.0rc1, 1.3.0, 1.3.1, 1.3.2)\u001b[0m\n",
      "\u001b[31mERROR: No matching distribution found for scikit-learn==1.5.2\u001b[0m\n",
      "\u001b[31mERROR: Could not find a version that satisfies the requirement matplotlib==3.9.3 (from versions: 0.86, 0.86.1, 0.86.2, 0.91.0, 0.91.1, 1.0.1, 1.1.0, 1.1.1, 1.2.0, 1.2.1, 1.3.0, 1.3.1, 1.4.0, 1.4.1rc1, 1.4.1, 1.4.2, 1.4.3, 1.5.0, 1.5.1, 1.5.2, 1.5.3, 2.0.0b1, 2.0.0b2, 2.0.0b3, 2.0.0b4, 2.0.0rc1, 2.0.0rc2, 2.0.0, 2.0.1, 2.0.2, 2.1.0rc1, 2.1.0, 2.1.1, 2.1.2, 2.2.0rc1, 2.2.0, 2.2.2, 2.2.3, 2.2.4, 2.2.5, 3.0.0rc2, 3.0.0, 3.0.1, 3.0.2, 3.0.3, 3.1.0rc1, 3.1.0rc2, 3.1.0, 3.1.1, 3.1.2, 3.1.3, 3.2.0rc1, 3.2.0rc3, 3.2.0, 3.2.1, 3.2.2, 3.3.0rc1, 3.3.0, 3.3.1, 3.3.2, 3.3.3, 3.3.4, 3.4.0rc1, 3.4.0rc2, 3.4.0rc3, 3.4.0, 3.4.1, 3.4.2, 3.4.3, 3.5.0b1, 3.5.0rc1, 3.5.0, 3.5.1, 3.5.2, 3.5.3, 3.6.0rc1, 3.6.0rc2, 3.6.0, 3.6.1, 3.6.2, 3.6.3, 3.7.0rc1, 3.7.0, 3.7.1, 3.7.2, 3.7.3, 3.7.4, 3.7.5)\u001b[0m\n",
      "\u001b[31mERROR: No matching distribution found for matplotlib==3.9.3\u001b[0m\n"
     ]
    }
   ],
   "source": [
    "!pip install -q numpy==1.26.4\n",
    "!pip install -q pandas==1.5.2\n",
    "!pip install -q scikit-learn==1.5.2\n",
    "!pip install -q matplotlib==3.9.3\n",
    "!pip install -q seaborn==0.13.2"
   ]
  },
  {
   "cell_type": "code",
   "execution_count": 2,
   "metadata": {},
   "outputs": [
    {
     "name": "stderr",
     "output_type": "stream",
     "text": [
      "/opt/anaconda3/lib/python3.8/site-packages/pandas/core/computation/expressions.py:20: UserWarning: Pandas requires version '2.7.3' or newer of 'numexpr' (version '2.7.1' currently installed).\n",
      "  from pandas.core.computation.check import NUMEXPR_INSTALLED\n"
     ]
    }
   ],
   "source": [
    "import numpy as np\n",
    "import pandas as pd\n",
    "from sklearn.impute import SimpleImputer\n",
    "from sklearn.model_selection import train_test_split\n",
    "from sklearn.preprocessing import OneHotEncoder\n",
    "import sklearn.metrics as metrics\n",
    "from sklearn.ensemble import GradientBoostingClassifier\n",
    "import seaborn as sns\n",
    "import matplotlib.pyplot as plt\n",
    "\n",
    "import joblib"
   ]
  },
  {
   "cell_type": "code",
   "execution_count": 3,
   "metadata": {},
   "outputs": [],
   "source": [
    "# Read in data\n",
    "df = pd.read_csv('/Users/Pooja/Desktop/Data Projects/Model-Deployment-Exercise/ModelDeploymentExercise/exercise_27_train.csv')"
   ]
  },
  {
   "cell_type": "code",
   "execution_count": 4,
   "metadata": {},
   "outputs": [],
   "source": [
    "# train, validation split\n",
    "# 75% for training, 25% for validation\n",
    "train, validation = train_test_split(df, test_size = .25, random_state=15)\n",
    "train = train.reset_index(drop=True)\n",
    "validation = validation.reset_index(drop=True)"
   ]
  },
  {
   "cell_type": "markdown",
   "metadata": {},
   "source": [
    "# Summary Statistics"
   ]
  },
  {
   "cell_type": "code",
   "execution_count": 5,
   "metadata": {},
   "outputs": [],
   "source": [
    "def data_summary(df):\n",
    "    \"\"\"\n",
    "    Description:\n",
    "    Obtain a high level summary of the data\n",
    "\n",
    "    INPUTS:\n",
    "    df: dataset to generate summary for\n",
    "\n",
    "    OUTPUTS:\n",
    "    df_summary: high level summary of df. Includes Variable name, data type, \n",
    "                number of levels, number missing, and percent missing\n",
    "    \"\"\"\n",
    "\n",
    "    N_levels = []\n",
    "    N_missing = []\n",
    "    percent_missing = []\n",
    "    var = list(df)\n",
    "    data_type = df.dtypes\n",
    "    n_obs = len(df)\n",
    "    for var in var:\n",
    "        n_missing = sum(df[var].isna())\n",
    "        N_levels.append(df[var].nunique())\n",
    "        N_missing.append(n_missing)\n",
    "        percent_missing.append(n_missing / n_obs)\n",
    "        \n",
    "    df_summary = pd.DataFrame(\n",
    "    {'Variable': list(df),\n",
    "     'data_type': data_type,\n",
    "     'N_levels': N_levels,\n",
    "     'N_missing':N_missing,\n",
    "     'percent_missing':percent_missing\n",
    "    }).reset_index(drop=True)\n",
    "    \n",
    "    return(df_summary)"
   ]
  },
  {
   "cell_type": "code",
   "execution_count": 6,
   "metadata": {},
   "outputs": [
    {
     "data": {
      "text/html": [
       "<div>\n",
       "<style scoped>\n",
       "    .dataframe tbody tr th:only-of-type {\n",
       "        vertical-align: middle;\n",
       "    }\n",
       "\n",
       "    .dataframe tbody tr th {\n",
       "        vertical-align: top;\n",
       "    }\n",
       "\n",
       "    .dataframe thead th {\n",
       "        text-align: right;\n",
       "    }\n",
       "</style>\n",
       "<table border=\"1\" class=\"dataframe\">\n",
       "  <thead>\n",
       "    <tr style=\"text-align: right;\">\n",
       "      <th></th>\n",
       "      <th>Variable</th>\n",
       "      <th>data_type</th>\n",
       "      <th>N_levels</th>\n",
       "      <th>N_missing</th>\n",
       "      <th>percent_missing</th>\n",
       "    </tr>\n",
       "  </thead>\n",
       "  <tbody>\n",
       "    <tr>\n",
       "      <th>0</th>\n",
       "      <td>x_0</td>\n",
       "      <td>float64</td>\n",
       "      <td>28838</td>\n",
       "      <td>1161</td>\n",
       "      <td>0.038700</td>\n",
       "    </tr>\n",
       "    <tr>\n",
       "      <th>1</th>\n",
       "      <td>x_1</td>\n",
       "      <td>float64</td>\n",
       "      <td>29487</td>\n",
       "      <td>513</td>\n",
       "      <td>0.017100</td>\n",
       "    </tr>\n",
       "    <tr>\n",
       "      <th>2</th>\n",
       "      <td>x_2</td>\n",
       "      <td>float64</td>\n",
       "      <td>29793</td>\n",
       "      <td>207</td>\n",
       "      <td>0.006900</td>\n",
       "    </tr>\n",
       "    <tr>\n",
       "      <th>3</th>\n",
       "      <td>x_3</td>\n",
       "      <td>float64</td>\n",
       "      <td>28686</td>\n",
       "      <td>124</td>\n",
       "      <td>0.004133</td>\n",
       "    </tr>\n",
       "    <tr>\n",
       "      <th>4</th>\n",
       "      <td>x_4</td>\n",
       "      <td>float64</td>\n",
       "      <td>29953</td>\n",
       "      <td>47</td>\n",
       "      <td>0.001567</td>\n",
       "    </tr>\n",
       "    <tr>\n",
       "      <th>...</th>\n",
       "      <td>...</td>\n",
       "      <td>...</td>\n",
       "      <td>...</td>\n",
       "      <td>...</td>\n",
       "      <td>...</td>\n",
       "    </tr>\n",
       "    <tr>\n",
       "      <th>96</th>\n",
       "      <td>x_96</td>\n",
       "      <td>float64</td>\n",
       "      <td>29171</td>\n",
       "      <td>828</td>\n",
       "      <td>0.027600</td>\n",
       "    </tr>\n",
       "    <tr>\n",
       "      <th>97</th>\n",
       "      <td>x_97</td>\n",
       "      <td>float64</td>\n",
       "      <td>29359</td>\n",
       "      <td>632</td>\n",
       "      <td>0.021067</td>\n",
       "    </tr>\n",
       "    <tr>\n",
       "      <th>98</th>\n",
       "      <td>x_98</td>\n",
       "      <td>float64</td>\n",
       "      <td>28954</td>\n",
       "      <td>1035</td>\n",
       "      <td>0.034500</td>\n",
       "    </tr>\n",
       "    <tr>\n",
       "      <th>99</th>\n",
       "      <td>x_99</td>\n",
       "      <td>float64</td>\n",
       "      <td>28489</td>\n",
       "      <td>1121</td>\n",
       "      <td>0.037367</td>\n",
       "    </tr>\n",
       "    <tr>\n",
       "      <th>100</th>\n",
       "      <td>y</td>\n",
       "      <td>int64</td>\n",
       "      <td>2</td>\n",
       "      <td>0</td>\n",
       "      <td>0.000000</td>\n",
       "    </tr>\n",
       "  </tbody>\n",
       "</table>\n",
       "<p>101 rows × 5 columns</p>\n",
       "</div>"
      ],
      "text/plain": [
       "    Variable data_type  N_levels  N_missing  percent_missing\n",
       "0        x_0   float64     28838       1161         0.038700\n",
       "1        x_1   float64     29487        513         0.017100\n",
       "2        x_2   float64     29793        207         0.006900\n",
       "3        x_3   float64     28686        124         0.004133\n",
       "4        x_4   float64     29953         47         0.001567\n",
       "..       ...       ...       ...        ...              ...\n",
       "96      x_96   float64     29171        828         0.027600\n",
       "97      x_97   float64     29359        632         0.021067\n",
       "98      x_98   float64     28954       1035         0.034500\n",
       "99      x_99   float64     28489       1121         0.037367\n",
       "100        y     int64         2          0         0.000000\n",
       "\n",
       "[101 rows x 5 columns]"
      ]
     },
     "execution_count": 6,
     "metadata": {},
     "output_type": "execute_result"
    }
   ],
   "source": [
    "train_sum = data_summary(train)\n",
    "train_sum"
   ]
  },
  {
   "cell_type": "code",
   "execution_count": 7,
   "metadata": {},
   "outputs": [],
   "source": [
    "def sum_stats(df):\n",
    "    \"\"\"\n",
    "    Description:\n",
    "    Obtain high level distributions summary of numeric data\n",
    "\n",
    "    INPUTS:\n",
    "    df: dataset to generate summary for\n",
    "\n",
    "    OUTPUTS:\n",
    "    sum_stats: high level summary of distributions of numeric features in df. \n",
    "               Includes Variable quantiles, min, max, mean, and standard deviation\n",
    "    \"\"\"\n",
    "    \n",
    "    sum_stats = df.describe()\n",
    "    sum_stats = sum_stats.transpose()\n",
    "    \n",
    "    return sum_stats"
   ]
  },
  {
   "cell_type": "code",
   "execution_count": 8,
   "metadata": {},
   "outputs": [
    {
     "data": {
      "text/html": [
       "<div>\n",
       "<style scoped>\n",
       "    .dataframe tbody tr th:only-of-type {\n",
       "        vertical-align: middle;\n",
       "    }\n",
       "\n",
       "    .dataframe tbody tr th {\n",
       "        vertical-align: top;\n",
       "    }\n",
       "\n",
       "    .dataframe thead th {\n",
       "        text-align: right;\n",
       "    }\n",
       "</style>\n",
       "<table border=\"1\" class=\"dataframe\">\n",
       "  <thead>\n",
       "    <tr style=\"text-align: right;\">\n",
       "      <th></th>\n",
       "      <th>count</th>\n",
       "      <th>mean</th>\n",
       "      <th>std</th>\n",
       "      <th>min</th>\n",
       "      <th>25%</th>\n",
       "      <th>50%</th>\n",
       "      <th>75%</th>\n",
       "      <th>max</th>\n",
       "    </tr>\n",
       "  </thead>\n",
       "  <tbody>\n",
       "    <tr>\n",
       "      <th>x_0</th>\n",
       "      <td>28839.0</td>\n",
       "      <td>0.503485</td>\n",
       "      <td>0.287623</td>\n",
       "      <td>0.000034</td>\n",
       "      <td>0.253178</td>\n",
       "      <td>0.508809</td>\n",
       "      <td>0.750067</td>\n",
       "      <td>0.999923</td>\n",
       "    </tr>\n",
       "    <tr>\n",
       "      <th>x_1</th>\n",
       "      <td>29487.0</td>\n",
       "      <td>-100.033261</td>\n",
       "      <td>10.080569</td>\n",
       "      <td>-141.578678</td>\n",
       "      <td>-106.835892</td>\n",
       "      <td>-100.078905</td>\n",
       "      <td>-93.281369</td>\n",
       "      <td>-60.788103</td>\n",
       "    </tr>\n",
       "    <tr>\n",
       "      <th>x_2</th>\n",
       "      <td>29793.0</td>\n",
       "      <td>-0.001083</td>\n",
       "      <td>0.996426</td>\n",
       "      <td>-3.649694</td>\n",
       "      <td>-0.680266</td>\n",
       "      <td>-0.007874</td>\n",
       "      <td>0.670180</td>\n",
       "      <td>3.736718</td>\n",
       "    </tr>\n",
       "    <tr>\n",
       "      <th>x_3</th>\n",
       "      <td>29876.0</td>\n",
       "      <td>-6.891165</td>\n",
       "      <td>1001.120834</td>\n",
       "      <td>-4115.060000</td>\n",
       "      <td>-682.425000</td>\n",
       "      <td>-4.685000</td>\n",
       "      <td>657.812500</td>\n",
       "      <td>4134.430000</td>\n",
       "    </tr>\n",
       "    <tr>\n",
       "      <th>x_4</th>\n",
       "      <td>29953.0</td>\n",
       "      <td>-0.011873</td>\n",
       "      <td>0.995671</td>\n",
       "      <td>-3.659842</td>\n",
       "      <td>-0.677343</td>\n",
       "      <td>-0.015450</td>\n",
       "      <td>0.659127</td>\n",
       "      <td>3.898463</td>\n",
       "    </tr>\n",
       "    <tr>\n",
       "      <th>...</th>\n",
       "      <td>...</td>\n",
       "      <td>...</td>\n",
       "      <td>...</td>\n",
       "      <td>...</td>\n",
       "      <td>...</td>\n",
       "      <td>...</td>\n",
       "      <td>...</td>\n",
       "      <td>...</td>\n",
       "    </tr>\n",
       "    <tr>\n",
       "      <th>x_96</th>\n",
       "      <td>29172.0</td>\n",
       "      <td>-0.003205</td>\n",
       "      <td>0.997052</td>\n",
       "      <td>-3.793748</td>\n",
       "      <td>-0.682904</td>\n",
       "      <td>-0.004194</td>\n",
       "      <td>0.670181</td>\n",
       "      <td>3.969251</td>\n",
       "    </tr>\n",
       "    <tr>\n",
       "      <th>x_97</th>\n",
       "      <td>29368.0</td>\n",
       "      <td>-99.902976</td>\n",
       "      <td>9.968507</td>\n",
       "      <td>-135.044735</td>\n",
       "      <td>-106.583394</td>\n",
       "      <td>-99.871761</td>\n",
       "      <td>-93.167225</td>\n",
       "      <td>-61.532881</td>\n",
       "    </tr>\n",
       "    <tr>\n",
       "      <th>x_98</th>\n",
       "      <td>28965.0</td>\n",
       "      <td>0.124305</td>\n",
       "      <td>0.072133</td>\n",
       "      <td>0.000010</td>\n",
       "      <td>0.061980</td>\n",
       "      <td>0.124100</td>\n",
       "      <td>0.186359</td>\n",
       "      <td>0.249995</td>\n",
       "    </tr>\n",
       "    <tr>\n",
       "      <th>x_99</th>\n",
       "      <td>28879.0</td>\n",
       "      <td>0.501751</td>\n",
       "      <td>0.287844</td>\n",
       "      <td>0.000013</td>\n",
       "      <td>0.254576</td>\n",
       "      <td>0.501232</td>\n",
       "      <td>0.750532</td>\n",
       "      <td>0.999987</td>\n",
       "    </tr>\n",
       "    <tr>\n",
       "      <th>y</th>\n",
       "      <td>30000.0</td>\n",
       "      <td>0.502033</td>\n",
       "      <td>0.500004</td>\n",
       "      <td>0.000000</td>\n",
       "      <td>0.000000</td>\n",
       "      <td>1.000000</td>\n",
       "      <td>1.000000</td>\n",
       "      <td>1.000000</td>\n",
       "    </tr>\n",
       "  </tbody>\n",
       "</table>\n",
       "<p>95 rows × 8 columns</p>\n",
       "</div>"
      ],
      "text/plain": [
       "        count        mean          std          min         25%         50%  \\\n",
       "x_0   28839.0    0.503485     0.287623     0.000034    0.253178    0.508809   \n",
       "x_1   29487.0 -100.033261    10.080569  -141.578678 -106.835892 -100.078905   \n",
       "x_2   29793.0   -0.001083     0.996426    -3.649694   -0.680266   -0.007874   \n",
       "x_3   29876.0   -6.891165  1001.120834 -4115.060000 -682.425000   -4.685000   \n",
       "x_4   29953.0   -0.011873     0.995671    -3.659842   -0.677343   -0.015450   \n",
       "...       ...         ...          ...          ...         ...         ...   \n",
       "x_96  29172.0   -0.003205     0.997052    -3.793748   -0.682904   -0.004194   \n",
       "x_97  29368.0  -99.902976     9.968507  -135.044735 -106.583394  -99.871761   \n",
       "x_98  28965.0    0.124305     0.072133     0.000010    0.061980    0.124100   \n",
       "x_99  28879.0    0.501751     0.287844     0.000013    0.254576    0.501232   \n",
       "y     30000.0    0.502033     0.500004     0.000000    0.000000    1.000000   \n",
       "\n",
       "             75%          max  \n",
       "x_0     0.750067     0.999923  \n",
       "x_1   -93.281369   -60.788103  \n",
       "x_2     0.670180     3.736718  \n",
       "x_3   657.812500  4134.430000  \n",
       "x_4     0.659127     3.898463  \n",
       "...          ...          ...  \n",
       "x_96    0.670181     3.969251  \n",
       "x_97  -93.167225   -61.532881  \n",
       "x_98    0.186359     0.249995  \n",
       "x_99    0.750532     0.999987  \n",
       "y       1.000000     1.000000  \n",
       "\n",
       "[95 rows x 8 columns]"
      ]
     },
     "execution_count": 8,
     "metadata": {},
     "output_type": "execute_result"
    }
   ],
   "source": [
    "summary = sum_stats(train)\n",
    "summary"
   ]
  },
  {
   "cell_type": "markdown",
   "metadata": {},
   "source": [
    "# Handling Missingness"
   ]
  },
  {
   "cell_type": "code",
   "execution_count": 9,
   "metadata": {},
   "outputs": [],
   "source": [
    "#1. Fixing the money and percents\n",
    "train['x_75'] = train['x_75'].str.replace('$','',regex=False)\n",
    "train['x_75'] = train['x_75'].str.replace(',','',regex=False)\n",
    "train['x_75'] = train['x_75'].str.replace(')','',regex=False)\n",
    "train['x_75'] = train['x_75'].str.replace('(','-',regex=False)\n",
    "train['x_75'] = train['x_75'].astype(float)\n",
    "train['x_89'] = train['x_89'].str.replace('%','',regex=False)\n",
    "train['x_89'] = train['x_89'].astype(float)"
   ]
  },
  {
   "cell_type": "code",
   "execution_count": 10,
   "metadata": {},
   "outputs": [
    {
     "data": {
      "text/html": [
       "<div>\n",
       "<style scoped>\n",
       "    .dataframe tbody tr th:only-of-type {\n",
       "        vertical-align: middle;\n",
       "    }\n",
       "\n",
       "    .dataframe tbody tr th {\n",
       "        vertical-align: top;\n",
       "    }\n",
       "\n",
       "    .dataframe thead th {\n",
       "        text-align: right;\n",
       "    }\n",
       "</style>\n",
       "<table border=\"1\" class=\"dataframe\">\n",
       "  <thead>\n",
       "    <tr style=\"text-align: right;\">\n",
       "      <th></th>\n",
       "      <th>x_0</th>\n",
       "      <th>x_1</th>\n",
       "      <th>x_2</th>\n",
       "      <th>x_3</th>\n",
       "      <th>x_4</th>\n",
       "      <th>x_5</th>\n",
       "      <th>x_6</th>\n",
       "      <th>x_7</th>\n",
       "      <th>x_8</th>\n",
       "      <th>x_9</th>\n",
       "      <th>...</th>\n",
       "      <th>x_91</th>\n",
       "      <th>x_92</th>\n",
       "      <th>x_93</th>\n",
       "      <th>x_94</th>\n",
       "      <th>x_95</th>\n",
       "      <th>x_96</th>\n",
       "      <th>x_97</th>\n",
       "      <th>x_98</th>\n",
       "      <th>x_99</th>\n",
       "      <th>y</th>\n",
       "    </tr>\n",
       "  </thead>\n",
       "  <tbody>\n",
       "    <tr>\n",
       "      <th>0</th>\n",
       "      <td>0.479009</td>\n",
       "      <td>-103.128046</td>\n",
       "      <td>0.392990</td>\n",
       "      <td>1331.92</td>\n",
       "      <td>2.094309</td>\n",
       "      <td>1.885538</td>\n",
       "      <td>2.082050</td>\n",
       "      <td>-0.886623</td>\n",
       "      <td>14.225797</td>\n",
       "      <td>friday</td>\n",
       "      <td>...</td>\n",
       "      <td>1.884757</td>\n",
       "      <td>-107.112382</td>\n",
       "      <td>-1.024188</td>\n",
       "      <td>1813.16</td>\n",
       "      <td>-1.876628</td>\n",
       "      <td>0.677215</td>\n",
       "      <td>-91.212904</td>\n",
       "      <td>0.175251</td>\n",
       "      <td>0.745239</td>\n",
       "      <td>1</td>\n",
       "    </tr>\n",
       "    <tr>\n",
       "      <th>1</th>\n",
       "      <td>0.091287</td>\n",
       "      <td>-111.730853</td>\n",
       "      <td>0.954959</td>\n",
       "      <td>-662.46</td>\n",
       "      <td>0.451450</td>\n",
       "      <td>-0.521334</td>\n",
       "      <td>4.328146</td>\n",
       "      <td>-1.779535</td>\n",
       "      <td>14.679747</td>\n",
       "      <td>wednesday</td>\n",
       "      <td>...</td>\n",
       "      <td>24.579120</td>\n",
       "      <td>-103.003738</td>\n",
       "      <td>-1.903177</td>\n",
       "      <td>-317.81</td>\n",
       "      <td>-1.185329</td>\n",
       "      <td>-0.653816</td>\n",
       "      <td>-95.890053</td>\n",
       "      <td>0.020723</td>\n",
       "      <td>0.501751</td>\n",
       "      <td>1</td>\n",
       "    </tr>\n",
       "    <tr>\n",
       "      <th>2</th>\n",
       "      <td>0.731560</td>\n",
       "      <td>-117.244220</td>\n",
       "      <td>-0.184778</td>\n",
       "      <td>184.28</td>\n",
       "      <td>-0.560751</td>\n",
       "      <td>0.004316</td>\n",
       "      <td>1.445204</td>\n",
       "      <td>0.539622</td>\n",
       "      <td>14.799164</td>\n",
       "      <td>tuesday</td>\n",
       "      <td>...</td>\n",
       "      <td>38.541001</td>\n",
       "      <td>-89.403099</td>\n",
       "      <td>-1.032052</td>\n",
       "      <td>88.38</td>\n",
       "      <td>-1.459669</td>\n",
       "      <td>2.151141</td>\n",
       "      <td>-95.961105</td>\n",
       "      <td>0.148226</td>\n",
       "      <td>0.916218</td>\n",
       "      <td>0</td>\n",
       "    </tr>\n",
       "    <tr>\n",
       "      <th>3</th>\n",
       "      <td>0.047646</td>\n",
       "      <td>-103.450068</td>\n",
       "      <td>0.574078</td>\n",
       "      <td>-677.13</td>\n",
       "      <td>-0.923235</td>\n",
       "      <td>0.396336</td>\n",
       "      <td>0.388166</td>\n",
       "      <td>0.712029</td>\n",
       "      <td>14.016515</td>\n",
       "      <td>thursday</td>\n",
       "      <td>...</td>\n",
       "      <td>19.774597</td>\n",
       "      <td>-99.056288</td>\n",
       "      <td>-1.692982</td>\n",
       "      <td>293.50</td>\n",
       "      <td>-0.900194</td>\n",
       "      <td>-1.496364</td>\n",
       "      <td>-104.799750</td>\n",
       "      <td>0.066595</td>\n",
       "      <td>0.570823</td>\n",
       "      <td>1</td>\n",
       "    </tr>\n",
       "    <tr>\n",
       "      <th>4</th>\n",
       "      <td>0.183054</td>\n",
       "      <td>-99.822514</td>\n",
       "      <td>0.792728</td>\n",
       "      <td>472.40</td>\n",
       "      <td>-0.508932</td>\n",
       "      <td>0.278074</td>\n",
       "      <td>1.620773</td>\n",
       "      <td>-0.786116</td>\n",
       "      <td>14.388208</td>\n",
       "      <td>tuesday</td>\n",
       "      <td>...</td>\n",
       "      <td>8.386430</td>\n",
       "      <td>-99.231992</td>\n",
       "      <td>-1.075041</td>\n",
       "      <td>-1075.90</td>\n",
       "      <td>-1.269962</td>\n",
       "      <td>1.191259</td>\n",
       "      <td>-111.219607</td>\n",
       "      <td>0.150934</td>\n",
       "      <td>0.503593</td>\n",
       "      <td>1</td>\n",
       "    </tr>\n",
       "    <tr>\n",
       "      <th>...</th>\n",
       "      <td>...</td>\n",
       "      <td>...</td>\n",
       "      <td>...</td>\n",
       "      <td>...</td>\n",
       "      <td>...</td>\n",
       "      <td>...</td>\n",
       "      <td>...</td>\n",
       "      <td>...</td>\n",
       "      <td>...</td>\n",
       "      <td>...</td>\n",
       "      <td>...</td>\n",
       "      <td>...</td>\n",
       "      <td>...</td>\n",
       "      <td>...</td>\n",
       "      <td>...</td>\n",
       "      <td>...</td>\n",
       "      <td>...</td>\n",
       "      <td>...</td>\n",
       "      <td>...</td>\n",
       "      <td>...</td>\n",
       "      <td>...</td>\n",
       "    </tr>\n",
       "    <tr>\n",
       "      <th>29995</th>\n",
       "      <td>0.634501</td>\n",
       "      <td>-99.678260</td>\n",
       "      <td>-0.132698</td>\n",
       "      <td>-816.18</td>\n",
       "      <td>0.931167</td>\n",
       "      <td>2.187595</td>\n",
       "      <td>4.024194</td>\n",
       "      <td>-0.667679</td>\n",
       "      <td>14.499989</td>\n",
       "      <td>tuesday</td>\n",
       "      <td>...</td>\n",
       "      <td>1.026044</td>\n",
       "      <td>-109.041539</td>\n",
       "      <td>-1.417651</td>\n",
       "      <td>-1333.01</td>\n",
       "      <td>-1.512748</td>\n",
       "      <td>1.066844</td>\n",
       "      <td>-100.955442</td>\n",
       "      <td>0.017819</td>\n",
       "      <td>0.555802</td>\n",
       "      <td>1</td>\n",
       "    </tr>\n",
       "    <tr>\n",
       "      <th>29996</th>\n",
       "      <td>0.549482</td>\n",
       "      <td>-92.020592</td>\n",
       "      <td>0.113311</td>\n",
       "      <td>1905.20</td>\n",
       "      <td>1.291120</td>\n",
       "      <td>-1.035265</td>\n",
       "      <td>2.922671</td>\n",
       "      <td>-0.353176</td>\n",
       "      <td>14.174716</td>\n",
       "      <td>wednesday</td>\n",
       "      <td>...</td>\n",
       "      <td>20.884615</td>\n",
       "      <td>-89.141224</td>\n",
       "      <td>-1.800826</td>\n",
       "      <td>-1436.44</td>\n",
       "      <td>-1.320582</td>\n",
       "      <td>-1.133857</td>\n",
       "      <td>-119.961082</td>\n",
       "      <td>0.184444</td>\n",
       "      <td>0.129645</td>\n",
       "      <td>1</td>\n",
       "    </tr>\n",
       "    <tr>\n",
       "      <th>29997</th>\n",
       "      <td>0.271244</td>\n",
       "      <td>-112.883428</td>\n",
       "      <td>0.568271</td>\n",
       "      <td>-113.85</td>\n",
       "      <td>2.740084</td>\n",
       "      <td>-1.493844</td>\n",
       "      <td>3.621980</td>\n",
       "      <td>-0.974540</td>\n",
       "      <td>14.558367</td>\n",
       "      <td>tuesday</td>\n",
       "      <td>...</td>\n",
       "      <td>49.925212</td>\n",
       "      <td>-83.097492</td>\n",
       "      <td>-1.261580</td>\n",
       "      <td>80.03</td>\n",
       "      <td>-1.595228</td>\n",
       "      <td>-1.071103</td>\n",
       "      <td>-81.808243</td>\n",
       "      <td>0.002429</td>\n",
       "      <td>0.484820</td>\n",
       "      <td>0</td>\n",
       "    </tr>\n",
       "    <tr>\n",
       "      <th>29998</th>\n",
       "      <td>0.891189</td>\n",
       "      <td>-98.423186</td>\n",
       "      <td>1.470679</td>\n",
       "      <td>-1807.28</td>\n",
       "      <td>0.938411</td>\n",
       "      <td>-1.826086</td>\n",
       "      <td>1.948390</td>\n",
       "      <td>-0.895508</td>\n",
       "      <td>14.388531</td>\n",
       "      <td>thursday</td>\n",
       "      <td>...</td>\n",
       "      <td>38.813173</td>\n",
       "      <td>-97.371536</td>\n",
       "      <td>-1.802267</td>\n",
       "      <td>-473.27</td>\n",
       "      <td>-1.277434</td>\n",
       "      <td>1.062475</td>\n",
       "      <td>-93.597127</td>\n",
       "      <td>0.196200</td>\n",
       "      <td>0.347580</td>\n",
       "      <td>0</td>\n",
       "    </tr>\n",
       "    <tr>\n",
       "      <th>29999</th>\n",
       "      <td>0.973958</td>\n",
       "      <td>-100.745132</td>\n",
       "      <td>-0.094719</td>\n",
       "      <td>449.15</td>\n",
       "      <td>2.301150</td>\n",
       "      <td>-0.972556</td>\n",
       "      <td>4.340895</td>\n",
       "      <td>2.032212</td>\n",
       "      <td>14.123481</td>\n",
       "      <td>tuesday</td>\n",
       "      <td>...</td>\n",
       "      <td>37.362715</td>\n",
       "      <td>-114.390857</td>\n",
       "      <td>-1.656977</td>\n",
       "      <td>236.23</td>\n",
       "      <td>-0.331170</td>\n",
       "      <td>-0.267980</td>\n",
       "      <td>-94.632434</td>\n",
       "      <td>0.134297</td>\n",
       "      <td>0.924502</td>\n",
       "      <td>1</td>\n",
       "    </tr>\n",
       "  </tbody>\n",
       "</table>\n",
       "<p>30000 rows × 101 columns</p>\n",
       "</div>"
      ],
      "text/plain": [
       "            x_0         x_1       x_2      x_3       x_4       x_5       x_6  \\\n",
       "0      0.479009 -103.128046  0.392990  1331.92  2.094309  1.885538  2.082050   \n",
       "1      0.091287 -111.730853  0.954959  -662.46  0.451450 -0.521334  4.328146   \n",
       "2      0.731560 -117.244220 -0.184778   184.28 -0.560751  0.004316  1.445204   \n",
       "3      0.047646 -103.450068  0.574078  -677.13 -0.923235  0.396336  0.388166   \n",
       "4      0.183054  -99.822514  0.792728   472.40 -0.508932  0.278074  1.620773   \n",
       "...         ...         ...       ...      ...       ...       ...       ...   \n",
       "29995  0.634501  -99.678260 -0.132698  -816.18  0.931167  2.187595  4.024194   \n",
       "29996  0.549482  -92.020592  0.113311  1905.20  1.291120 -1.035265  2.922671   \n",
       "29997  0.271244 -112.883428  0.568271  -113.85  2.740084 -1.493844  3.621980   \n",
       "29998  0.891189  -98.423186  1.470679 -1807.28  0.938411 -1.826086  1.948390   \n",
       "29999  0.973958 -100.745132 -0.094719   449.15  2.301150 -0.972556  4.340895   \n",
       "\n",
       "            x_7        x_8        x_9  ...       x_91        x_92      x_93  \\\n",
       "0     -0.886623  14.225797     friday  ...   1.884757 -107.112382 -1.024188   \n",
       "1     -1.779535  14.679747  wednesday  ...  24.579120 -103.003738 -1.903177   \n",
       "2      0.539622  14.799164    tuesday  ...  38.541001  -89.403099 -1.032052   \n",
       "3      0.712029  14.016515   thursday  ...  19.774597  -99.056288 -1.692982   \n",
       "4     -0.786116  14.388208    tuesday  ...   8.386430  -99.231992 -1.075041   \n",
       "...         ...        ...        ...  ...        ...         ...       ...   \n",
       "29995 -0.667679  14.499989    tuesday  ...   1.026044 -109.041539 -1.417651   \n",
       "29996 -0.353176  14.174716  wednesday  ...  20.884615  -89.141224 -1.800826   \n",
       "29997 -0.974540  14.558367    tuesday  ...  49.925212  -83.097492 -1.261580   \n",
       "29998 -0.895508  14.388531   thursday  ...  38.813173  -97.371536 -1.802267   \n",
       "29999  2.032212  14.123481    tuesday  ...  37.362715 -114.390857 -1.656977   \n",
       "\n",
       "          x_94      x_95      x_96        x_97      x_98      x_99  y  \n",
       "0      1813.16 -1.876628  0.677215  -91.212904  0.175251  0.745239  1  \n",
       "1      -317.81 -1.185329 -0.653816  -95.890053  0.020723  0.501751  1  \n",
       "2        88.38 -1.459669  2.151141  -95.961105  0.148226  0.916218  0  \n",
       "3       293.50 -0.900194 -1.496364 -104.799750  0.066595  0.570823  1  \n",
       "4     -1075.90 -1.269962  1.191259 -111.219607  0.150934  0.503593  1  \n",
       "...        ...       ...       ...         ...       ...       ... ..  \n",
       "29995 -1333.01 -1.512748  1.066844 -100.955442  0.017819  0.555802  1  \n",
       "29996 -1436.44 -1.320582 -1.133857 -119.961082  0.184444  0.129645  1  \n",
       "29997    80.03 -1.595228 -1.071103  -81.808243  0.002429  0.484820  0  \n",
       "29998  -473.27 -1.277434  1.062475  -93.597127  0.196200  0.347580  0  \n",
       "29999   236.23 -0.331170 -0.267980  -94.632434  0.134297  0.924502  1  \n",
       "\n",
       "[30000 rows x 101 columns]"
      ]
     },
     "execution_count": 10,
     "metadata": {},
     "output_type": "execute_result"
    }
   ],
   "source": [
    "\n",
    "mi_num = train.select_dtypes(include=['float64']).columns\n",
    "imputer = SimpleImputer(strategy='mean')\n",
    "\n",
    "# Fit the imputer on the numerical columns and transform the data\n",
    "train[mi_num] = imputer.fit_transform(train[mi_num])\n",
    "train"
   ]
  },
  {
   "cell_type": "code",
   "execution_count": 11,
   "metadata": {},
   "outputs": [],
   "source": [
    "# fill categorical missingness\n",
    "train['x_65'] = train['x_65'].fillna('missing')"
   ]
  },
  {
   "cell_type": "markdown",
   "metadata": {},
   "source": [
    "# Feature Engineering"
   ]
  },
  {
   "cell_type": "code",
   "execution_count": 12,
   "metadata": {},
   "outputs": [],
   "source": [
    "def fit_ohe(df, variables):\n",
    "    \"\"\"\n",
    "    Description:\n",
    "    Fits One-Hot Encoders for the specified variables and returns the encoders.\n",
    "\n",
    "    INPUTS:\n",
    "    df: DataFrame to fit encoders on\n",
    "    variables: List of variables to fit encoders\n",
    "\n",
    "    OUTPUT:\n",
    "    encoders: A dictionary where keys are variable names and values are the fitted OneHotEncoders\n",
    "    \"\"\"\n",
    "\n",
    "    encoders = {}\n",
    "    for var in variables:\n",
    "        encoder = OneHotEncoder(sparse_output=False, handle_unknown=\"ignore\")\n",
    "        encoder.fit(df[[var]])\n",
    "        encoders[var] = encoder\n",
    "\n",
    "    return encoders\n",
    "\n",
    "\n",
    "def transform_ohe(df, encoders):\n",
    "    \"\"\"\n",
    "    Description:\n",
    "    Transforms the DataFrame using the fitted One-Hot Encoders and returns the transformed DataFrame.\n",
    "\n",
    "    INPUTS:\n",
    "    df: DataFrame to transform\n",
    "    encoders: A dictionary of fitted OneHotEncoders\n",
    "\n",
    "    OUTPUT:\n",
    "    df_transformed: DataFrame with one-hot encoded variables\n",
    "    \"\"\"\n",
    "\n",
    "    df_transformed = df.copy()\n",
    "    for var, encoder in encoders.items():\n",
    "        encoder_df = pd.DataFrame(encoder.transform(df[[var]]), columns=encoder.get_feature_names_out([var]))\n",
    "        df_transformed = pd.concat([df_transformed.drop(columns=[var]), encoder_df], axis=1)\n",
    "\n",
    "    return df_transformed"
   ]
  },
  {
   "cell_type": "code",
   "execution_count": 13,
   "metadata": {},
   "outputs": [],
   "source": [
    "var = ['x_16', 'x_51','x_65', 'x_9']"
   ]
  },
  {
   "cell_type": "code",
   "execution_count": 14,
   "metadata": {},
   "outputs": [],
   "source": [
    "encoders = fit_ohe(train,var)\n",
    "train = transform_ohe(train, encoders)"
   ]
  },
  {
   "cell_type": "markdown",
   "metadata": {},
   "source": [
    "# EDA"
   ]
  },
  {
   "cell_type": "code",
   "execution_count": 15,
   "metadata": {},
   "outputs": [
    {
     "data": {
      "image/png": "[encoded data removed]",
      "text/plain": [
       "<Figure size 576x432 with 2 Axes>"
      ]
     },
     "metadata": {
      "needs_background": "light"
     },
     "output_type": "display_data"
    }
   ],
   "source": [
    "# Creating correlation heatmap\n",
    "corr_matrix = train.drop('y', axis=1).corr()\n",
    "plt.figure(figsize=(8, 6))\n",
    "sns.heatmap(corr_matrix, annot=False, cmap='coolwarm', linewidths=.01)\n",
    "plt.title('Correlation Heatmap')\n",
    "plt.show()"
   ]
  },
  {
   "cell_type": "code",
   "execution_count": 16,
   "metadata": {},
   "outputs": [
    {
     "data": {
      "text/plain": [
       "['x_21 and x_33',\n",
       " 'x_21 and x_79',\n",
       " 'x_33 and x_79',\n",
       " 'x_51_Female and x_51_Male',\n",
       " 'x_65_tesla and x_65_toyota']"
      ]
     },
     "execution_count": 16,
     "metadata": {},
     "output_type": "execute_result"
    }
   ],
   "source": [
    "# Identifying high correlation pairs\n",
    "[f\"{corr_matrix.columns[i]} and {corr_matrix.columns[j]}\" for i, j in zip(*np.where(np.abs(corr_matrix.values) >= .5)) if i < j]"
   ]
  },
  {
   "cell_type": "code",
   "execution_count": 17,
   "metadata": {},
   "outputs": [
    {
     "name": "stdout",
     "output_type": "stream",
     "text": [
      "x_21 & x_33: 0.594961505036977\n",
      "x_21 & x_79: 0.790550163049739\n",
      "x_33 & x_79: 0.5925445800278839\n",
      "x_51_Female & x_51_Male: -0.9999999999999992\n",
      "x_65_tesla & x_65_toyota: -0.5858332228144295\n"
     ]
    }
   ],
   "source": [
    "# Viewing correlation values \n",
    "print(\"x_21 & x_33: \" + str(corr_matrix['x_21']['x_33']))\n",
    "print(\"x_21 & x_79: \" + str(corr_matrix['x_21']['x_79']))\n",
    "print(\"x_33 & x_79: \" + str(corr_matrix['x_33']['x_79']))\n",
    "print(\"x_51_Female & x_51_Male: \" + str(corr_matrix['x_51_Female']['x_51_Male']))\n",
    "print(\"x_65_tesla & x_65_toyota: \" + str(corr_matrix['x_65_tesla']['x_65_toyota']))"
   ]
  },
  {
   "cell_type": "code",
   "execution_count": 18,
   "metadata": {},
   "outputs": [
    {
     "data": {
      "image/png": "[encoded data removed]",
      "text/plain": [
       "<Figure size 216x144 with 1 Axes>"
      ]
     },
     "metadata": {
      "needs_background": "light"
     },
     "output_type": "display_data"
    },
    {
     "data": {
      "image/png": "[encoded data removed]",
      "text/plain": [
       "<Figure size 216x144 with 1 Axes>"
      ]
     },
     "metadata": {
      "needs_background": "light"
     },
     "output_type": "display_data"
    },
    {
     "data": {
      "image/png": "[encoded data removed]",
      "text/plain": [
       "<Figure size 216x144 with 1 Axes>"
      ]
     },
     "metadata": {
      "needs_background": "light"
     },
     "output_type": "display_data"
    },
    {
     "data": {
      "image/png": "[encoded data removed]",
      "text/plain": [
       "<Figure size 216x144 with 1 Axes>"
      ]
     },
     "metadata": {
      "needs_background": "light"
     },
     "output_type": "display_data"
    },
    {
     "data": {
      "image/png": "[encoded data removed]",
      "text/plain": [
       "<Figure size 216x144 with 1 Axes>"
      ]
     },
     "metadata": {
      "needs_background": "light"
     },
     "output_type": "display_data"
    },
    {
     "data": {
      "image/png": "[encoded data removed]",
      "text/plain": [
       "<Figure size 216x144 with 1 Axes>"
      ]
     },
     "metadata": {
      "needs_background": "light"
     },
     "output_type": "display_data"
    },
    {
     "data": {
      "image/png": "[encoded data removed]",
      "text/plain": [
       "<Figure size 216x144 with 1 Axes>"
      ]
     },
     "metadata": {
      "needs_background": "light"
     },
     "output_type": "display_data"
    },
    {
     "data": {
      "image/png": "[encoded data removed]",
      "text/plain": [
       "<Figure size 216x144 with 1 Axes>"
      ]
     },
     "metadata": {
      "needs_background": "light"
     },
     "output_type": "display_data"
    },
    {
     "data": {
      "image/png": "[encoded data removed]",
      "text/plain": [
       "<Figure size 216x144 with 1 Axes>"
      ]
     },
     "metadata": {
      "needs_background": "light"
     },
     "output_type": "display_data"
    },
    {
     "data": {
      "image/png": "[encoded data removed]",
      "text/plain": [
       "<Figure size 216x144 with 1 Axes>"
      ]
     },
     "metadata": {
      "needs_background": "light"
     },
     "output_type": "display_data"
    }
   ],
   "source": [
    "# Displaying distributions of first 10 features\n",
    "# Uncomment code below to display all distributions\n",
    "var = list(train.drop('y',axis=1))\n",
    "\n",
    "for i in var[0:10]:\n",
    "    plt.figure(figsize=(3, 2))\n",
    "    plt.title('Dist. of Var ' + i)\n",
    "    sns.histplot(train[i], stat = 'probability', bins = 20)\n",
    "    plt.show()\n",
    "\n",
    "#for i in var:\n",
    "#    plt.figure(figsize=(3, 2))\n",
    "#    plt.title('Dist. of Var ' + i)\n",
    "#    sns.histplot(train[i], stat = 'probability', bins = 15)\n",
    "#    plt.show()"
   ]
  },
  {
   "cell_type": "markdown",
   "metadata": {},
   "source": [
    "# Selecting Features for Final Model"
   ]
  },
  {
   "cell_type": "code",
   "execution_count": 19,
   "metadata": {},
   "outputs": [],
   "source": [
    "var = ['x_0','x_1','x_2','x_3','x_4','x_5','x_6','x_7','x_8','x_10','x_11','x_12','x_13','x_14','x_15','x_17','x_18','x_19','x_20','x_21','x_22','x_23','x_24','x_25','x_26','x_27','x_28','x_29','x_30','x_31','x_32','x_33','x_34','x_35','x_36','x_37','x_38','x_39','x_40','x_41','x_42','x_43','x_44','x_45','x_46','x_47','x_48','x_49','x_50','x_52','x_53','x_54','x_55','x_56','x_57','x_58','x_59','x_60','x_61','x_62','x_63','x_64','x_66','x_67','x_68','x_69','x_70','x_71','x_72','x_73','x_74','x_75','x_76','x_77','x_78','x_79','x_80','x_81','x_82','x_83','x_84','x_85','x_86','x_87','x_88','x_89','x_90','x_91','x_92','x_93','x_94','x_95','x_96','x_97','x_98','x_99','x_16_April','x_16_August','x_16_December','x_16_February','x_16_January','x_16_July','x_16_June','x_16_March','x_16_May','x_16_November','x_16_October','x_16_September','x_51_Female','x_51_Male','x_65_BMW','x_65_ford','x_65_missing','x_65_tesla','x_65_toyota','x_9_friday','x_9_monday','x_9_thursday','x_9_tuesday','x_9_wednesday']"
   ]
  },
  {
   "cell_type": "code",
   "execution_count": 20,
   "metadata": {},
   "outputs": [],
   "source": [
    "X_train = train[var]\n",
    "y_train = train['y']"
   ]
  },
  {
   "cell_type": "code",
   "execution_count": 21,
   "metadata": {},
   "outputs": [],
   "source": [
    "model = GradientBoostingClassifier(n_estimators=10)"
   ]
  },
  {
   "cell_type": "code",
   "execution_count": 22,
   "metadata": {},
   "outputs": [],
   "source": [
    "model = model.fit(X_train, y_train)"
   ]
  },
  {
   "cell_type": "code",
   "execution_count": 23,
   "metadata": {},
   "outputs": [],
   "source": [
    "id_sort = np.argsort(model.feature_importances_)"
   ]
  },
  {
   "cell_type": "code",
   "execution_count": 24,
   "metadata": {},
   "outputs": [
    {
     "data": {
      "text/html": [
       "<div>\n",
       "<style scoped>\n",
       "    .dataframe tbody tr th:only-of-type {\n",
       "        vertical-align: middle;\n",
       "    }\n",
       "\n",
       "    .dataframe tbody tr th {\n",
       "        vertical-align: top;\n",
       "    }\n",
       "\n",
       "    .dataframe thead th {\n",
       "        text-align: right;\n",
       "    }\n",
       "</style>\n",
       "<table border=\"1\" class=\"dataframe\">\n",
       "  <thead>\n",
       "    <tr style=\"text-align: right;\">\n",
       "      <th></th>\n",
       "      <th>var</th>\n",
       "      <th>gain</th>\n",
       "    </tr>\n",
       "  </thead>\n",
       "  <tbody>\n",
       "    <tr>\n",
       "      <th>0</th>\n",
       "      <td>x_39</td>\n",
       "      <td>0.414631</td>\n",
       "    </tr>\n",
       "    <tr>\n",
       "      <th>1</th>\n",
       "      <td>x_49</td>\n",
       "      <td>0.241677</td>\n",
       "    </tr>\n",
       "    <tr>\n",
       "      <th>2</th>\n",
       "      <td>x_61</td>\n",
       "      <td>0.122995</td>\n",
       "    </tr>\n",
       "    <tr>\n",
       "      <th>3</th>\n",
       "      <td>x_65_toyota</td>\n",
       "      <td>0.079292</td>\n",
       "    </tr>\n",
       "    <tr>\n",
       "      <th>4</th>\n",
       "      <td>x_75</td>\n",
       "      <td>0.057266</td>\n",
       "    </tr>\n",
       "    <tr>\n",
       "      <th>5</th>\n",
       "      <td>x_9_monday</td>\n",
       "      <td>0.050757</td>\n",
       "    </tr>\n",
       "    <tr>\n",
       "      <th>6</th>\n",
       "      <td>x_9_friday</td>\n",
       "      <td>0.033383</td>\n",
       "    </tr>\n",
       "    <tr>\n",
       "      <th>7</th>\n",
       "      <td>x_5</td>\n",
       "      <td>0.000000</td>\n",
       "    </tr>\n",
       "    <tr>\n",
       "      <th>8</th>\n",
       "      <td>x_10</td>\n",
       "      <td>0.000000</td>\n",
       "    </tr>\n",
       "    <tr>\n",
       "      <th>9</th>\n",
       "      <td>x_8</td>\n",
       "      <td>0.000000</td>\n",
       "    </tr>\n",
       "  </tbody>\n",
       "</table>\n",
       "</div>"
      ],
      "text/plain": [
       "           var      gain\n",
       "0         x_39  0.414631\n",
       "1         x_49  0.241677\n",
       "2         x_61  0.122995\n",
       "3  x_65_toyota  0.079292\n",
       "4         x_75  0.057266\n",
       "5   x_9_monday  0.050757\n",
       "6   x_9_friday  0.033383\n",
       "7          x_5  0.000000\n",
       "8         x_10  0.000000\n",
       "9          x_8  0.000000"
      ]
     },
     "execution_count": 24,
     "metadata": {},
     "output_type": "execute_result"
    }
   ],
   "source": [
    "# Show top 10 features based on gain\n",
    "pd.DataFrame({'var':np.array(var)[id_sort],'gain':model.feature_importances_[id_sort]}).sort_values('gain',ascending=False).reset_index(drop=True)[0:10]"
   ]
  },
  {
   "cell_type": "code",
   "execution_count": 25,
   "metadata": {},
   "outputs": [],
   "source": [
    "# 7 features with non-zero gain\n",
    "# Using these 7 for our final model\n",
    "mod_vars = ['x_39','x_49','x_61','x_65_toyota','x_75','x_9_monday','x_9_friday']"
   ]
  },
  {
   "cell_type": "markdown",
   "metadata": {},
   "source": [
    "# Building Final Model"
   ]
  },
  {
   "cell_type": "code",
   "execution_count": 26,
   "metadata": {},
   "outputs": [],
   "source": [
    "model = GradientBoostingClassifier(n_estimators=100)\n",
    "model = model.fit(X_train[mod_vars], y_train)"
   ]
  },
  {
   "cell_type": "code",
   "execution_count": 27,
   "metadata": {},
   "outputs": [
    {
     "data": {
      "text/plain": [
       "array([0.5785376 , 0.62901257, 0.44936698, 0.5170444 , 0.87561792])"
      ]
     },
     "execution_count": 27,
     "metadata": {},
     "output_type": "execute_result"
    }
   ],
   "source": [
    "# Making predictions on training set\n",
    "pred_train = model.predict_proba(X_train[mod_vars])[:,1]\n",
    "pred_train[:5]"
   ]
  },
  {
   "cell_type": "code",
   "execution_count": 28,
   "metadata": {},
   "outputs": [
    {
     "data": {
      "text/plain": [
       "0.8306839509999185"
      ]
     },
     "execution_count": 28,
     "metadata": {},
     "output_type": "execute_result"
    }
   ],
   "source": [
    "# Checking AUC of model on training data\n",
    "metrics.roc_auc_score(y_true = train['y'], y_score = pred_train)"
   ]
  },
  {
   "cell_type": "code",
   "execution_count": 29,
   "metadata": {},
   "outputs": [
    {
     "name": "stdout",
     "output_type": "stream",
     "text": [
      "cutoff = 0.7, precision = 0.853888178542369\n",
      "cutoff = 0.71, precision = 0.861390945503095\n",
      "cutoff = 0.72, precision = 0.8670725520040589\n",
      "cutoff = 0.73, precision = 0.8727128082736675\n",
      "cutoff = 0.74, precision = 0.8776581054957194\n",
      "cutoff = 0.75, precision = 0.8824210831161309\n",
      "cutoff = 0.76, precision = 0.8905031350359383\n",
      "cutoff = 0.77, precision = 0.8949147087222401\n",
      "cutoff = 0.78, precision = 0.9031040987823701\n",
      "cutoff = 0.79, precision = 0.9110585667515461\n"
     ]
    }
   ],
   "source": [
    "# measuring precision on train data\n",
    "for i in np.arange(10):\n",
    "    print(\"cutoff = \" + str(round(.7+(i/100),2)) + \", precision = \" +str(train[pred_train>(.7+(i/100))]['y'].mean()))"
   ]
  },
  {
   "cell_type": "markdown",
   "metadata": {},
   "source": [
    "# Prepare validation data"
   ]
  },
  {
   "cell_type": "code",
   "execution_count": 30,
   "metadata": {},
   "outputs": [],
   "source": [
    "validation['x_75'] = validation['x_75'].str.replace('$','',regex=False)\n",
    "validation['x_75'] = validation['x_75'].str.replace(',','',regex=False)\n",
    "validation['x_75'] = validation['x_75'].str.replace(')','',regex=False)\n",
    "validation['x_75'] = validation['x_75'].str.replace('(','-',regex=False)\n",
    "validation['x_75'] = validation['x_75'].astype('float64')\n",
    "\n",
    "validation['x_89'] = validation['x_89'].str.replace('%','',regex=False)\n",
    "validation['x_89'] = validation['x_89'].astype(float)"
   ]
  },
  {
   "cell_type": "code",
   "execution_count": 31,
   "metadata": {},
   "outputs": [],
   "source": [
    "# imputing missing data\n",
    "mi_num = validation.select_dtypes(include=['float64']).columns\n",
    "validation[mi_num] = imputer.transform(validation[mi_num])"
   ]
  },
  {
   "cell_type": "code",
   "execution_count": 32,
   "metadata": {},
   "outputs": [],
   "source": [
    "# one hot encoding categorical features\n",
    "ohe_vars = ['x_9','x_65']\n",
    "validation = transform_ohe(validation, encoders)"
   ]
  },
  {
   "cell_type": "markdown",
   "metadata": {},
   "source": [
    "# Model performance on validation data"
   ]
  },
  {
   "cell_type": "code",
   "execution_count": 33,
   "metadata": {},
   "outputs": [
    {
     "data": {
      "text/plain": [
       "array([0.7548423 , 0.76304589, 0.15409366, 0.9085209 , 0.62004728])"
      ]
     },
     "execution_count": 33,
     "metadata": {},
     "output_type": "execute_result"
    }
   ],
   "source": [
    "# making predictions on validation data\n",
    "pred_validation = model.predict_proba(validation[mod_vars])[:,1]\n",
    "pred_validation[:5]"
   ]
  },
  {
   "cell_type": "code",
   "execution_count": 34,
   "metadata": {},
   "outputs": [
    {
     "data": {
      "text/plain": [
       "0.734"
      ]
     },
     "execution_count": 34,
     "metadata": {},
     "output_type": "execute_result"
    }
   ],
   "source": [
    "# checking accuracy of validation dataset\n",
    "((pred_validation>.5)==validation['y']).mean()"
   ]
  },
  {
   "cell_type": "code",
   "execution_count": 35,
   "metadata": {},
   "outputs": [
    {
     "data": {
      "text/plain": [
       "0.8169778541120274"
      ]
     },
     "execution_count": 35,
     "metadata": {},
     "output_type": "execute_result"
    }
   ],
   "source": [
    "# Checking AUC of model on validation data\n",
    "metrics.roc_auc_score(y_true = validation['y'], y_score = pred_validation)"
   ]
  },
  {
   "cell_type": "code",
   "execution_count": 36,
   "metadata": {},
   "outputs": [
    {
     "name": "stdout",
     "output_type": "stream",
     "text": [
      "cutoff = 0.7, precision = 0.846723044397463\n",
      "cutoff = 0.71, precision = 0.8501831501831502\n",
      "cutoff = 0.72, precision = 0.8577421815408085\n",
      "cutoff = 0.73, precision = 0.8610668789808917\n",
      "cutoff = 0.74, precision = 0.8657154846831725\n",
      "cutoff = 0.75, precision = 0.8701012769704976\n",
      "cutoff = 0.76, precision = 0.8776645041705282\n",
      "cutoff = 0.77, precision = 0.88134765625\n",
      "cutoff = 0.78, precision = 0.8869109947643979\n",
      "cutoff = 0.79, precision = 0.8918918918918919\n"
     ]
    }
   ],
   "source": [
    "# measuring precision on validation data\n",
    "for i in np.arange(10):\n",
    "    print(\"cutoff = \" + str(round(.7+(i/100),2)) + \", precision = \" +str(validation[pred_validation>(.7+(i/100))]['y'].mean()))"
   ]
  },
  {
   "cell_type": "code",
   "execution_count": 37,
   "metadata": {},
   "outputs": [
    {
     "data": {
      "text/plain": [
       "['model.pkl']"
      ]
     },
     "execution_count": 37,
     "metadata": {},
     "output_type": "execute_result"
    }
   ],
   "source": [
    "joblib.dump(model, \"model.pkl\")"
   ]
  },
  {
   "cell_type": "code",
   "execution_count": null,
   "metadata": {},
   "outputs": [],
   "source": []
  }
 ],
 "metadata": {
  "kernelspec": {
   "display_name": "Python 3",
   "language": "python",
   "name": "python3"
  },
  "language_info": {
   "codemirror_mode": {
    "name": "ipython",
    "version": 3
   },
   "file_extension": ".py",
   "mimetype": "text/x-python",
   "name": "python",
   "nbconvert_exporter": "python",
   "pygments_lexer": "ipython3",
   "version": "3.8.5"
  }
 },
 "nbformat": 4,
 "nbformat_minor": 5
}
